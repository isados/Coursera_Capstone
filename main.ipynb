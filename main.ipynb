{
 "cells": [
  {
   "cell_type": "markdown",
   "id": "51be5e7b",
   "metadata": {},
   "source": [
    "# Welcome to the Applied Data Science Project"
   ]
  },
  {
   "cell_type": "markdown",
   "id": "ed57eb2f",
   "metadata": {},
   "source": [
    "This notebook will be used to detail the steps and code necessary to build the Battle of the Neighborhoods project; which uses location data to estimate how great a certain area/neighborhood is compared to others."
   ]
  },
  {
   "cell_type": "code",
   "execution_count": 1,
   "id": "37fa4b8e",
   "metadata": {},
   "outputs": [],
   "source": [
    "# Import packages\n",
    "import numpy as np\n",
    "import pandas as pd"
   ]
  },
  {
   "cell_type": "code",
   "execution_count": 2,
   "id": "c7dea21a",
   "metadata": {},
   "outputs": [
    {
     "name": "stdout",
     "output_type": "stream",
     "text": [
      "Hello Capstone Project Course!\n"
     ]
    }
   ],
   "source": [
    "print(\"Hello Capstone Project Course!\")"
   ]
  }
 ],
 "metadata": {
  "kernelspec": {
   "display_name": "Python 3",
   "language": "python",
   "name": "python3"
  },
  "language_info": {
   "codemirror_mode": {
    "name": "ipython",
    "version": 3
   },
   "file_extension": ".py",
   "mimetype": "text/x-python",
   "name": "python",
   "nbconvert_exporter": "python",
   "pygments_lexer": "ipython3",
   "version": "3.8.10"
  }
 },
 "nbformat": 4,
 "nbformat_minor": 5
}
